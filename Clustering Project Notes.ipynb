{
 "cells": [
  {
   "cell_type": "markdown",
   "id": "23711f81",
   "metadata": {},
   "source": [
    "- Wine dataset\n",
    "- Have final notebook, and slide deck\n",
    "- Slides\n",
    "    - Intro\n",
    "    - Exec Summary\n",
    "    - Findings\n",
    "    - Conclusion\n",
    "    - 5 minutes time limit\n",
    "- Make sure to have good notes\n",
    "- Try just looking at the data and noting your thoughts first\n",
    "- At least 3 sets of combinations of features\n",
    "- Model on scaled, explore on unscaled, train\n",
    "- Need to understand clustering\n",
    "- Each group, one folder, one of everything\n",
    "- Get better understanding of clusters\n",
    "- Understand features/columns\n",
    "- If you use cluster as a feature, cluster can't have wine quality\n",
    "\n",
    "Rubric\n",
    "    - Scale before clustering\n",
    "\n",
    "Tyler approach to projects\n",
    " - General plan in a text document\n",
    " - Rubric written out\n",
    "\n",
    "Plan:\n",
    "    - Tyler to general acquire\n",
    "    - We will create separate wrangle files\n",
    "        - Seperate explore files"
   ]
  }
 ],
 "metadata": {
  "kernelspec": {
   "display_name": "Python 3 (ipykernel)",
   "language": "python",
   "name": "python3"
  },
  "language_info": {
   "codemirror_mode": {
    "name": "ipython",
    "version": 3
   },
   "file_extension": ".py",
   "mimetype": "text/x-python",
   "name": "python",
   "nbconvert_exporter": "python",
   "pygments_lexer": "ipython3",
   "version": "3.9.13"
  }
 },
 "nbformat": 4,
 "nbformat_minor": 5
}
